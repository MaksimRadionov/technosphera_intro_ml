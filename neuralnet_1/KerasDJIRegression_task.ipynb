{
 "cells": [
  {
   "cell_type": "markdown",
   "metadata": {},
   "source": [
    "# Dow Jones Industrial Average"
   ]
  },
  {
   "cell_type": "markdown",
   "metadata": {},
   "source": [
    "# Промышленный индекс Доу — Джонса"
   ]
  },
  {
   "cell_type": "markdown",
   "metadata": {},
   "source": [
    "### Данные"
   ]
  },
  {
   "cell_type": "markdown",
   "metadata": {},
   "source": [
    "https://in.finance.yahoo.com/quote/%5EDJI/history?p=%5EDJI"
   ]
  },
  {
   "cell_type": "markdown",
   "metadata": {},
   "source": [
    "### Описание"
   ]
  },
  {
   "cell_type": "markdown",
   "metadata": {},
   "source": [
    "https://ru.wikipedia.org/wiki/%D0%9F%D1%80%D0%BE%D0%BC%D1%8B%D1%88%D0%BB%D0%B5%D0%BD%D0%BD%D1%8B%D0%B9_%D0%B8%D0%BD%D0%B4%D0%B5%D0%BA%D1%81_%D0%94%D0%BE%D1%83_%E2%80%94_%D0%94%D0%B6%D0%BE%D0%BD%D1%81%D0%B0"
   ]
  },
  {
   "cell_type": "code",
   "execution_count": 1,
   "metadata": {
    "ExecuteTime": {
     "end_time": "2019-12-05T10:58:53.960151Z",
     "start_time": "2019-12-05T10:58:51.603371Z"
    }
   },
   "outputs": [
    {
     "name": "stderr",
     "output_type": "stream",
     "text": [
      "Using TensorFlow backend.\n"
     ]
    }
   ],
   "source": [
    "import keras\n",
    "import matplotlib.pyplot as plt\n",
    "import numpy as np\n",
    "import pandas as pd\n",
    "from keras.models import Sequential\n",
    "from keras.layers import Dense\n",
    "from keras.callbacks import EarlyStopping, ModelCheckpoint, History\n",
    "from sklearn.model_selection import train_test_split\n",
    "from sklearn.preprocessing import MinMaxScaler"
   ]
  },
  {
   "cell_type": "code",
   "execution_count": 2,
   "metadata": {
    "ExecuteTime": {
     "end_time": "2019-12-05T10:58:53.965310Z",
     "start_time": "2019-12-05T10:58:53.962031Z"
    }
   },
   "outputs": [],
   "source": [
    "def plot_loss(train_loss, val_loss):\n",
    "    plt.plot(train_loss, label='train_loss')\n",
    "    plt.plot(val_loss, label='val_loss')\n",
    "    plt.grid()\n",
    "    plt.legend()\n",
    "    plt.ylabel('Loss')\n",
    "    plt.xlabel('Epoch')\n",
    "    plt.show()"
   ]
  },
  {
   "cell_type": "code",
   "execution_count": 3,
   "metadata": {
    "ExecuteTime": {
     "end_time": "2019-12-05T10:58:54.192871Z",
     "start_time": "2019-12-05T10:58:53.967303Z"
    }
   },
   "outputs": [],
   "source": [
    "sample_df = pd.read_csv('./data/DJI_ds.tsv')"
   ]
  },
  {
   "cell_type": "code",
   "execution_count": 4,
   "metadata": {
    "ExecuteTime": {
     "end_time": "2019-12-05T10:58:54.278854Z",
     "start_time": "2019-12-05T10:58:54.196405Z"
    }
   },
   "outputs": [
    {
     "data": {
      "text/html": [
       "<div>\n",
       "<style scoped>\n",
       "    .dataframe tbody tr th:only-of-type {\n",
       "        vertical-align: middle;\n",
       "    }\n",
       "\n",
       "    .dataframe tbody tr th {\n",
       "        vertical-align: top;\n",
       "    }\n",
       "\n",
       "    .dataframe thead th {\n",
       "        text-align: right;\n",
       "    }\n",
       "</style>\n",
       "<table border=\"1\" class=\"dataframe\">\n",
       "  <thead>\n",
       "    <tr style=\"text-align: right;\">\n",
       "      <th></th>\n",
       "      <th>Date</th>\n",
       "      <th>Open</th>\n",
       "      <th>High</th>\n",
       "      <th>Low</th>\n",
       "      <th>Close</th>\n",
       "      <th>Adj Close</th>\n",
       "      <th>Volume</th>\n",
       "    </tr>\n",
       "  </thead>\n",
       "  <tbody>\n",
       "    <tr>\n",
       "      <th>0</th>\n",
       "      <td>1985-01-29</td>\n",
       "      <td>1277.719971</td>\n",
       "      <td>1295.489990</td>\n",
       "      <td>1266.890015</td>\n",
       "      <td>1292.619995</td>\n",
       "      <td>1292.619995</td>\n",
       "      <td>13560000</td>\n",
       "    </tr>\n",
       "    <tr>\n",
       "      <th>1</th>\n",
       "      <td>1985-01-30</td>\n",
       "      <td>1297.369995</td>\n",
       "      <td>1305.099976</td>\n",
       "      <td>1278.930054</td>\n",
       "      <td>1287.880005</td>\n",
       "      <td>1287.880005</td>\n",
       "      <td>16820000</td>\n",
       "    </tr>\n",
       "    <tr>\n",
       "      <th>2</th>\n",
       "      <td>1985-01-31</td>\n",
       "      <td>1283.239990</td>\n",
       "      <td>1293.400024</td>\n",
       "      <td>1272.640015</td>\n",
       "      <td>1286.770020</td>\n",
       "      <td>1286.770020</td>\n",
       "      <td>14070000</td>\n",
       "    </tr>\n",
       "    <tr>\n",
       "      <th>3</th>\n",
       "      <td>1985-02-01</td>\n",
       "      <td>1276.939941</td>\n",
       "      <td>1286.109985</td>\n",
       "      <td>1269.770020</td>\n",
       "      <td>1277.719971</td>\n",
       "      <td>1277.719971</td>\n",
       "      <td>10980000</td>\n",
       "    </tr>\n",
       "    <tr>\n",
       "      <th>4</th>\n",
       "      <td>1985-02-04</td>\n",
       "      <td>1272.079956</td>\n",
       "      <td>1294.939941</td>\n",
       "      <td>1268.989990</td>\n",
       "      <td>1290.079956</td>\n",
       "      <td>1290.079956</td>\n",
       "      <td>11630000</td>\n",
       "    </tr>\n",
       "  </tbody>\n",
       "</table>\n",
       "</div>"
      ],
      "text/plain": [
       "         Date         Open         High          Low        Close  \\\n",
       "0  1985-01-29  1277.719971  1295.489990  1266.890015  1292.619995   \n",
       "1  1985-01-30  1297.369995  1305.099976  1278.930054  1287.880005   \n",
       "2  1985-01-31  1283.239990  1293.400024  1272.640015  1286.770020   \n",
       "3  1985-02-01  1276.939941  1286.109985  1269.770020  1277.719971   \n",
       "4  1985-02-04  1272.079956  1294.939941  1268.989990  1290.079956   \n",
       "\n",
       "     Adj Close    Volume  \n",
       "0  1292.619995  13560000  \n",
       "1  1287.880005  16820000  \n",
       "2  1286.770020  14070000  \n",
       "3  1277.719971  10980000  \n",
       "4  1290.079956  11630000  "
      ]
     },
     "execution_count": 4,
     "metadata": {},
     "output_type": "execute_result"
    }
   ],
   "source": [
    "sample_df.head()"
   ]
  },
  {
   "cell_type": "code",
   "execution_count": 5,
   "metadata": {
    "ExecuteTime": {
     "end_time": "2019-12-05T10:58:54.513184Z",
     "start_time": "2019-12-05T10:58:54.508763Z"
    }
   },
   "outputs": [],
   "source": [
    "def denormalize(df,norm_data):\n",
    "    values = df['Close'].values.reshape(-1,1)\n",
    "    scl = MinMaxScaler()\n",
    "    a = scl.fit_transform(values)\n",
    "    new = scl.inverse_transform(norm_data)\n",
    "    return new"
   ]
  },
  {
   "cell_type": "code",
   "execution_count": 6,
   "metadata": {
    "ExecuteTime": {
     "end_time": "2019-12-05T10:58:55.137372Z",
     "start_time": "2019-12-05T10:58:55.121212Z"
    }
   },
   "outputs": [],
   "source": [
    "sample_df = sample_df.drop(['Date'],axis=1) # Drop Date feature\n",
    "sample_df = sample_df.dropna(inplace=False)  # Remove all nan entries.\n",
    "sample_df = sample_df.drop(['Adj Close','Volume'],axis=1) # Drop Adj close and volume feature"
   ]
  },
  {
   "cell_type": "code",
   "execution_count": 7,
   "metadata": {
    "ExecuteTime": {
     "end_time": "2019-12-05T10:58:55.603875Z",
     "start_time": "2019-12-05T10:58:55.591638Z"
    }
   },
   "outputs": [
    {
     "data": {
      "text/html": [
       "<div>\n",
       "<style scoped>\n",
       "    .dataframe tbody tr th:only-of-type {\n",
       "        vertical-align: middle;\n",
       "    }\n",
       "\n",
       "    .dataframe tbody tr th {\n",
       "        vertical-align: top;\n",
       "    }\n",
       "\n",
       "    .dataframe thead th {\n",
       "        text-align: right;\n",
       "    }\n",
       "</style>\n",
       "<table border=\"1\" class=\"dataframe\">\n",
       "  <thead>\n",
       "    <tr style=\"text-align: right;\">\n",
       "      <th></th>\n",
       "      <th>Open</th>\n",
       "      <th>High</th>\n",
       "      <th>Low</th>\n",
       "      <th>Close</th>\n",
       "    </tr>\n",
       "  </thead>\n",
       "  <tbody>\n",
       "    <tr>\n",
       "      <th>0</th>\n",
       "      <td>1277.719971</td>\n",
       "      <td>1295.489990</td>\n",
       "      <td>1266.890015</td>\n",
       "      <td>1292.619995</td>\n",
       "    </tr>\n",
       "    <tr>\n",
       "      <th>1</th>\n",
       "      <td>1297.369995</td>\n",
       "      <td>1305.099976</td>\n",
       "      <td>1278.930054</td>\n",
       "      <td>1287.880005</td>\n",
       "    </tr>\n",
       "    <tr>\n",
       "      <th>2</th>\n",
       "      <td>1283.239990</td>\n",
       "      <td>1293.400024</td>\n",
       "      <td>1272.640015</td>\n",
       "      <td>1286.770020</td>\n",
       "    </tr>\n",
       "    <tr>\n",
       "      <th>3</th>\n",
       "      <td>1276.939941</td>\n",
       "      <td>1286.109985</td>\n",
       "      <td>1269.770020</td>\n",
       "      <td>1277.719971</td>\n",
       "    </tr>\n",
       "    <tr>\n",
       "      <th>4</th>\n",
       "      <td>1272.079956</td>\n",
       "      <td>1294.939941</td>\n",
       "      <td>1268.989990</td>\n",
       "      <td>1290.079956</td>\n",
       "    </tr>\n",
       "  </tbody>\n",
       "</table>\n",
       "</div>"
      ],
      "text/plain": [
       "          Open         High          Low        Close\n",
       "0  1277.719971  1295.489990  1266.890015  1292.619995\n",
       "1  1297.369995  1305.099976  1278.930054  1287.880005\n",
       "2  1283.239990  1293.400024  1272.640015  1286.770020\n",
       "3  1276.939941  1286.109985  1269.770020  1277.719971\n",
       "4  1272.079956  1294.939941  1268.989990  1290.079956"
      ]
     },
     "execution_count": 7,
     "metadata": {},
     "output_type": "execute_result"
    }
   ],
   "source": [
    "sample_df.head()"
   ]
  },
  {
   "cell_type": "code",
   "execution_count": 88,
   "metadata": {
    "ExecuteTime": {
     "end_time": "2019-12-05T11:12:30.049233Z",
     "start_time": "2019-12-05T11:12:30.041954Z"
    }
   },
   "outputs": [
    {
     "data": {
      "text/plain": [
       "26828.390625"
      ]
     },
     "execution_count": 88,
     "metadata": {},
     "output_type": "execute_result"
    }
   ],
   "source": [
    "sample_df.Close.max()"
   ]
  },
  {
   "cell_type": "code",
   "execution_count": 9,
   "metadata": {
    "ExecuteTime": {
     "end_time": "2019-12-05T10:58:57.235183Z",
     "start_time": "2019-12-05T10:58:57.231118Z"
    }
   },
   "outputs": [],
   "source": [
    "df_train = sample_df[:5000]    \n",
    "df_test = sample_df[5000:]"
   ]
  },
  {
   "cell_type": "code",
   "execution_count": 10,
   "metadata": {
    "ExecuteTime": {
     "end_time": "2019-12-05T10:59:06.375532Z",
     "start_time": "2019-12-05T10:59:06.370257Z"
    }
   },
   "outputs": [],
   "source": [
    "scaler = MinMaxScaler()"
   ]
  },
  {
   "cell_type": "code",
   "execution_count": 11,
   "metadata": {
    "ExecuteTime": {
     "end_time": "2019-12-05T10:59:06.974845Z",
     "start_time": "2019-12-05T10:59:06.855619Z"
    }
   },
   "outputs": [
    {
     "name": "stderr",
     "output_type": "stream",
     "text": [
      "/usr/local/lib/python3.6/dist-packages/ipykernel_launcher.py:1: FutureWarning: Method .as_matrix will be removed in a future version. Use .values instead.\n",
      "  \"\"\"Entry point for launching an IPython kernel.\n",
      "/usr/local/lib/python3.6/dist-packages/ipykernel_launcher.py:2: FutureWarning: Method .as_matrix will be removed in a future version. Use .values instead.\n",
      "  \n"
     ]
    }
   ],
   "source": [
    "X_train = scaler.fit_transform(df_train.drop(['Close'],axis=1).as_matrix())\n",
    "y_train = scaler.fit_transform(df_train['Close'].as_matrix().reshape(-1,1))"
   ]
  },
  {
   "cell_type": "code",
   "execution_count": 12,
   "metadata": {
    "ExecuteTime": {
     "end_time": "2019-12-05T11:00:25.587063Z",
     "start_time": "2019-12-05T11:00:25.580382Z"
    }
   },
   "outputs": [
    {
     "data": {
      "text/plain": [
       "(5000, 3)"
      ]
     },
     "execution_count": 12,
     "metadata": {},
     "output_type": "execute_result"
    }
   ],
   "source": [
    "X_train.shape"
   ]
  },
  {
   "cell_type": "code",
   "execution_count": 13,
   "metadata": {
    "ExecuteTime": {
     "end_time": "2019-12-05T11:00:27.750667Z",
     "start_time": "2019-12-05T11:00:27.743535Z"
    }
   },
   "outputs": [
    {
     "name": "stderr",
     "output_type": "stream",
     "text": [
      "/usr/local/lib/python3.6/dist-packages/ipykernel_launcher.py:1: FutureWarning: Method .as_matrix will be removed in a future version. Use .values instead.\n",
      "  \"\"\"Entry point for launching an IPython kernel.\n",
      "/usr/local/lib/python3.6/dist-packages/ipykernel_launcher.py:2: FutureWarning: Method .as_matrix will be removed in a future version. Use .values instead.\n",
      "  \n"
     ]
    }
   ],
   "source": [
    "X_test = scaler.fit_transform(df_test.drop(['Close'],axis=1).as_matrix())\n",
    "y_test = scaler.fit_transform(df_test['Close'].as_matrix().reshape(-1,1))"
   ]
  },
  {
   "cell_type": "code",
   "execution_count": 14,
   "metadata": {
    "ExecuteTime": {
     "end_time": "2019-12-05T11:00:32.777671Z",
     "start_time": "2019-12-05T11:00:32.771578Z"
    }
   },
   "outputs": [
    {
     "data": {
      "text/plain": [
       "(3518, 1)"
      ]
     },
     "execution_count": 14,
     "metadata": {},
     "output_type": "execute_result"
    }
   ],
   "source": [
    "y_test.shape"
   ]
  },
  {
   "cell_type": "markdown",
   "metadata": {},
   "source": [
    "# Создать модель для решения задачи регрессии"
   ]
  },
  {
   "cell_type": "code",
   "execution_count": 30,
   "metadata": {
    "ExecuteTime": {
     "end_time": "2019-12-05T11:02:47.854696Z",
     "start_time": "2019-12-05T11:02:47.840443Z"
    }
   },
   "outputs": [],
   "source": [
    "def deep_model_v1():\n",
    "    # create model\n",
    "    model = Sequential()\n",
    "    model.add(Dense(3, input_dim=3, kernel_initializer='normal', activation='linear'))\n",
    "    model.add(Dense(10, input_dim=3, kernel_initializer='normal', activation='sigmoid'))\n",
    "    model.add(Dense(10, input_dim=10, kernel_initializer='normal', activation='sigmoid'))\n",
    "    model.add(Dense(1, activation='linear', kernel_initializer='normal'))\n",
    "    # Compile model\n",
    "    model.compile(loss='mean_squared_error', optimizer='adam')\n",
    "    return model"
   ]
  },
  {
   "cell_type": "markdown",
   "metadata": {},
   "source": [
    "# Визуализировать train - val loss"
   ]
  },
  {
   "cell_type": "code",
   "execution_count": 78,
   "metadata": {
    "ExecuteTime": {
     "end_time": "2019-12-05T11:10:36.703335Z",
     "start_time": "2019-12-05T11:10:25.648400Z"
    }
   },
   "outputs": [
    {
     "data": {
      "text/plain": [
       "<keras.callbacks.callbacks.History at 0x7f2056ed6048>"
      ]
     },
     "execution_count": 78,
     "metadata": {},
     "output_type": "execute_result"
    }
   ],
   "source": [
    "history = History()\n",
    "reg_model = deep_model_v1()\n",
    "reg_model.fit(X_train, y_train, validation_data=(X_test,y_test), \n",
    "              batch_size=100, epochs=150, callbacks=[history], verbose=0)"
   ]
  },
  {
   "cell_type": "code",
   "execution_count": 79,
   "metadata": {
    "ExecuteTime": {
     "end_time": "2019-12-05T11:10:37.009437Z",
     "start_time": "2019-12-05T11:10:36.705403Z"
    }
   },
   "outputs": [
    {
     "data": {
      "image/png": "[encoded data removed]",
      "text/plain": [
       "<Figure size 432x288 with 1 Axes>"
      ]
     },
     "metadata": {
      "needs_background": "light"
     },
     "output_type": "display_data"
    }
   ],
   "source": [
    "plot_loss(history.history['loss'], history.history['val_loss'])"
   ]
  },
  {
   "cell_type": "markdown",
   "metadata": {},
   "source": [
    "# Получить предсказание на test и визуализировать его"
   ]
  },
  {
   "cell_type": "markdown",
   "metadata": {},
   "source": [
    "Использовать функцию denormalize"
   ]
  },
  {
   "cell_type": "code",
   "execution_count": 80,
   "metadata": {
    "ExecuteTime": {
     "end_time": "2019-12-05T11:10:37.208972Z",
     "start_time": "2019-12-05T11:10:37.013235Z"
    }
   },
   "outputs": [
    {
     "data": {
      "text/plain": [
       "array([[0.1855926 ],\n",
       "       [0.18620159],\n",
       "       [0.18731664],\n",
       "       ...,\n",
       "       [0.93550974],\n",
       "       [0.94501036],\n",
       "       [0.94082385]], dtype=float32)"
      ]
     },
     "execution_count": 80,
     "metadata": {},
     "output_type": "execute_result"
    }
   ],
   "source": [
    "y_pred = reg_model.predict(X_test)\n",
    "y_pred"
   ]
  },
  {
   "cell_type": "code",
   "execution_count": 85,
   "metadata": {
    "ExecuteTime": {
     "end_time": "2019-12-05T11:11:44.789760Z",
     "start_time": "2019-12-05T11:11:44.559751Z"
    }
   },
   "outputs": [
    {
     "data": {
      "image/png": "[encoded data removed]",
      "text/plain": [
       "<Figure size 432x288 with 1 Axes>"
      ]
     },
     "metadata": {
      "needs_background": "light"
     },
     "output_type": "display_data"
    }
   ],
   "source": [
    "plt.plot(range(y_test.shape[0]), denormalize(df_test,y_test))\n",
    "plt.plot(range(y_pred.shape[0]), denormalize(df_test,y_pred))\n",
    "plt.grid()\n",
    "plt.show()"
   ]
  },
  {
   "cell_type": "code",
   "execution_count": null,
   "metadata": {},
   "outputs": [],
   "source": []
  }
 ],
 "metadata": {
  "kernelspec": {
   "display_name": "Python 3",
   "language": "python",
   "name": "python3"
  },
  "language_info": {
   "codemirror_mode": {
    "name": "ipython",
    "version": 3
   },
   "file_extension": ".py",
   "mimetype": "text/x-python",
   "name": "python",
   "nbconvert_exporter": "python",
   "pygments_lexer": "ipython3",
   "version": "3.6.9"
  },
  "toc": {
   "base_numbering": 1,
   "nav_menu": {},
   "number_sections": false,
   "sideBar": true,
   "skip_h1_title": false,
   "title_cell": "Table of Contents",
   "title_sidebar": "Contents",
   "toc_cell": false,
   "toc_position": {},
   "toc_section_display": true,
   "toc_window_display": true
  }
 },
 "nbformat": 4,
 "nbformat_minor": 2
}
