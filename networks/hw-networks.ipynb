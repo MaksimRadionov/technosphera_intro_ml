{
 "cells": [
  {
   "cell_type": "markdown",
   "metadata": {
    "slideshow": {
     "slide_type": "slide"
    }
   },
   "source": [
    "<center><img src=\"images/header.png\"></center>\n",
    "\n",
    "<h1><center>Лекция №6: Введение в анализ социальных сетей</center></h1>\n",
    "<hr>\n",
    "<h1><center>Домашняя работа</center></h1>"
   ]
  },
  {
   "cell_type": "markdown",
   "metadata": {},
   "source": [
    "Данное ДЗ является довольно творческим и оно требует довольно много самостоятельной работы, так что не стоит с ним мешкать =)\n",
    "\n",
    "Вам предлагается выбрать сообщество (или сообщества) в сети ВКонтакте и проанализировать его (их) контингент. \n",
    "\n",
    "\n",
    "**Правила:**\n",
    "* Отчеты принимаются до **23:59 11 ноября**. Вы должны залить ваш ноутбук в github дать на него ссылку в следующей [форме](https://forms.gle/88d9CfaJN5gPV4bB8).\n",
    "* Работоспособность будет проверяться через [colab](https://colab.research.google.com) (можете сразу давать ссылку на него). Если ноутбук не будет исполняться (падать по ошибке) то все, что будет написано после ошибки не будет учитываться при формировании оценки \n",
    "* Вы должны включить код, с помощью которого вы общались с API вконтакте, но для экономии времени, заранее предусмотреть возможность загрузки уже собранных данных (например, как это было реализовано в ноутбуках по кластеризации через `wget` и dropbox или raw данными в github)\n",
    "\n",
    "**Пожелания:**\n",
    "* Выбирайте для анализа небольшие сообщества (до 5к), желательно чтобы вы сами в них состояли - это ускорит вычисления и упростит интерпретацию\n",
    "* Отнеситесь к этой работе как к исследованию - больше графиков и комментариев!\n",
    "* Красивые визуализации лучше делать через gephi!"
   ]
  },
  {
   "cell_type": "markdown",
   "metadata": {},
   "source": [
    "# Загрузка данных (2 балла)"
   ]
  },
  {
   "cell_type": "markdown",
   "metadata": {
    "slideshow": {
     "slide_type": "subslide"
    }
   },
   "source": [
    "Изучите следующие материалы\n",
    "* [Знакомство с API](https://vk.com/dev/first_guide)\n",
    "* [Туториал](https://nbviewer.jupyter.org/github/allatambov/Py-programming-3/blob/master/15-06/lect-vk-api.ipynb) по выгрузке данных с помощью VKAPI\n",
    "* Про метод execute - [туть](https://vk.com/dev/execute) и [туть](http://www.cyberforum.ru/python-web/thread1730446.html)\n",
    "\n",
    "Выберите сообщество и загрузите\n",
    "* Идентификаторы всех [участников сообщества](https://vk.com/dev/groups.getMembers)\n",
    "* [Списки друзей](https://vk.com/dev/friends.get) участников и их признаки (пол, возраст, университет и все, что посчитаете нужным - нам потом группировать по этим атрибутам)\n",
    "* [Пересечение](https://vk.com/dev/friends.getMutual) между списками друзей\n",
    "\n",
    "Таким образом вы должны получить замкнутую группу аккаунтов с их друзьями и связями между ними.\n",
    "\n",
    "Далее - соберите их этого граф в networkX и сохраните в graphml или gml формате\n",
    "\n",
    "**Замечания:**\n",
    "* Вконтакте может ограничить вам скорость запросов, поэтому иногда имеет смысл ставить небольшую паузу (`time.sleep(1)`) между запросами и сохранять предварительные результаты\n",
    "* Код выгрузки может быть написан как с помощью модуля `vk` так и просто с помощью requests \n"
   ]
  },
  {
   "cell_type": "code",
   "execution_count": 1,
   "metadata": {
    "scrolled": true
   },
   "outputs": [
    {
     "data": {
      "text/plain": [
       "\"tok = '--------'\\n                                                                    \\nsession = vk.Session(access_token = tok) # открыть сессию для работы            \\napi = vk.API(session) # подключиться к API                                      \\n                                                                                \\ngroup = 'ffmsu216'                                                              \\nd = api.groups.getMembers(group_id=group, fields = ['sex', 'bdate', 'city', 'country', 'lists', 'domain', 'has_mobile', 'contacts', 'connections', 'site', 'education', 'universities', 'schools', 'can_post', 'can_see_all_posts', 'can_see_audio', 'can_write_private_message', 'status', 'last_seen', 'common_count', 'relation', 'relatives'],v='5.103')\\nall_members = d['items']                                                        \\n\\ncount = 0                                                                       \\nfor member in all_members:                                                      \\n    count = count+1                                                             \\n    print(count)                                                                \\n    while True:                                                                 \\n        try:                                                                    \\n            member['friends'] = api.friends.get(user_id=member['id'],fields=['nickname', 'domain', 'sex', 'bdate', 'city', 'country', 'timezone', 'has_mobile', 'contacts', 'education', 'online', 'relation', 'last_seen', 'status', 'can_write_private_message', 'can_see_all_posts', 'can_post', 'universities'],v='5.103')\\n        except Exception as e:                                                  \\n            if e.__dict__['error_data']['error_code'] == 30:                    \\n                member['friends'] = 'private'                                   \\n            elif e.__dict__['error_data']['error_code'] == 6:                   \\n                time.sleep(0.4)                                                 \\n                continue                                                        \\n            else:                                                               \\n                member['friends'] = 'unknown'                                   \\n            break                                                               \\n        break    \\nall_members = [member for member in all_members if not isinstance(member['friends'], str)]\\nall_members = [member for member in all_members if member['friends']['count'] < 1100]\\nfor member in all_members:                                                      \\n    member.update({'all_friends_checked':False})                                \\n    if not isinstance(member['friends'], str):                                  \\n        for member_friend in member['friends']['items']:                        \\n            member_friend['common_fr'] = []                                     \\ncount = 0                                                                       \\nfor member in all_members:                                                      \\n    if isinstance(member['friends'], str) or member['can_access_closed'] == False:\\n        continue                                                                \\n    count +=1                                                                   \\n    print(count)                                                                \\n    count2 =0                                                                   \\n    for member_friend in member['friends']['items']:                            \\n        if 'is_closed' not in member_friend.keys() or member_friend['is_closed'] == True:\\n            continue                                                            \\n        count2 +=1                                                              \\n        print('     ',count2, count)                                            \\n        member_id = []                                                          \\n        for member2 in all_members:                                             \\n            if not member2['all_friends_checked'] and member2['friends']!='unknown' and member2['friends']!='private':\\n                member_id.append(member2['id'])                                 \\n            if len(member_id) == 100:                                           \\n                time.sleep(0.1)                                                 \\n                while True:                                                     \\n                    try:                                                        \\n                        common_fr = api.friends.getMutual(source_uid=member_friend['id'],target_uids=member_id,v='5.103')\\n                    except Exception as e:                                      \\n                        if e.__dict__['error_data']['error_code'] == 6:         \\n                            time.sleep(0.4)                                     \\n                            print('sleep')                                      \\n                            continue                                            \\n                        else:                                                   \\n                            print('UNKONW',str(e))                              \\n                        break                                                   \\n                    break                                                       \\n                member_friend['common_fr'] += common_fr                         \\n                member_id.clear()                                               \\n        if len(member_id) > 0:                                                  \\n            time.sleep(0.1)                                                     \\n            while True:                                                         \\n                try:                                                            \\n                    common_fr = api.friends.getMutual(source_uid=member_friend['id'],target_uids=member_id,v='5.103')\\n                except Exception as e:                                          \\n                    if e.__dict__['error_data']['error_code'] == 6:             \\n                        time.sleep(0.4)                                         \\n                        print('sleep')                                          \\n                        continue                                                \\n                    else:                                                       \\n                        print('UNKONW',str(e))                                  \\n                    break                                                       \\n                break                                                           \\n            member_friend['common_fr'] += common_fr                             \\n            member_id.clear()                                                   \\n    member['all_friends_checked']=True                                          \\n#save_obj(all_members,'all_members_with_friends_with_friends21')                 \\nprint('Saved exit')   \""
      ]
     },
     "execution_count": 1,
     "metadata": {},
     "output_type": "execute_result"
    }
   ],
   "source": [
    "### Здесь должен быть код загрузки из VK\n",
    "### Его можно закомментировать\n",
    "import vk                                                                       \n",
    "import time                                                                     \n",
    "import pickle                                                                   \n",
    "                                                                                \n",
    "def save_obj(obj, name ):                                                       \n",
    "    with open(name + '.pkl', 'wb') as f:                                        \n",
    "        pickle.dump(obj, f, pickle.HIGHEST_PROTOCOL)                            \n",
    "                                                                                \n",
    "def load_obj(name ):                                                            \n",
    "    with open(name + '.pkl', 'rb') as f:                                        \n",
    "        return pickle.load(f)                                                   \n",
    "\n",
    "\"\"\"tok = '--------'\n",
    "                                                                    \n",
    "session = vk.Session(access_token = tok) # открыть сессию для работы            \n",
    "api = vk.API(session) # подключиться к API                                      \n",
    "                                                                                \n",
    "group = 'ffmsu216'                                                              \n",
    "d = api.groups.getMembers(group_id=group, fields = ['sex', 'bdate', 'city', 'country', 'lists', 'domain', 'has_mobile', 'contacts', 'connections', 'site', 'education', 'universities', 'schools', 'can_post', 'can_see_all_posts', 'can_see_audio', 'can_write_private_message', 'status', 'last_seen', 'common_count', 'relation', 'relatives'],v='5.103')\n",
    "all_members = d['items']                                                        \n",
    "\n",
    "count = 0                                                                       \n",
    "for member in all_members:                                                      \n",
    "    count = count+1                                                             \n",
    "    print(count)                                                                \n",
    "    while True:                                                                 \n",
    "        try:                                                                    \n",
    "            member['friends'] = api.friends.get(user_id=member['id'],fields=['nickname', 'domain', 'sex', 'bdate', 'city', 'country', 'timezone', 'has_mobile', 'contacts', 'education', 'online', 'relation', 'last_seen', 'status', 'can_write_private_message', 'can_see_all_posts', 'can_post', 'universities'],v='5.103')\n",
    "        except Exception as e:                                                  \n",
    "            if e.__dict__['error_data']['error_code'] == 30:                    \n",
    "                member['friends'] = 'private'                                   \n",
    "            elif e.__dict__['error_data']['error_code'] == 6:                   \n",
    "                time.sleep(0.4)                                                 \n",
    "                continue                                                        \n",
    "            else:                                                               \n",
    "                member['friends'] = 'unknown'                                   \n",
    "            break                                                               \n",
    "        break    \n",
    "all_members = [member for member in all_members if not isinstance(member['friends'], str)]\n",
    "all_members = [member for member in all_members if member['friends']['count'] < 1100]\n",
    "for member in all_members:                                                      \n",
    "    member.update({'all_friends_checked':False})                                \n",
    "    if not isinstance(member['friends'], str):                                  \n",
    "        for member_friend in member['friends']['items']:                        \n",
    "            member_friend['common_fr'] = []                                     \n",
    "count = 0                                                                       \n",
    "for member in all_members:                                                      \n",
    "    if isinstance(member['friends'], str) or member['can_access_closed'] == False:\n",
    "        continue                                                                \n",
    "    count +=1                                                                   \n",
    "    print(count)                                                                \n",
    "    count2 =0                                                                   \n",
    "    for member_friend in member['friends']['items']:                            \n",
    "        if 'is_closed' not in member_friend.keys() or member_friend['is_closed'] == True:\n",
    "            continue                                                            \n",
    "        count2 +=1                                                              \n",
    "        print('     ',count2, count)                                            \n",
    "        member_id = []                                                          \n",
    "        for member2 in all_members:                                             \n",
    "            if not member2['all_friends_checked'] and member2['friends']!='unknown' and member2['friends']!='private':\n",
    "                member_id.append(member2['id'])                                 \n",
    "            if len(member_id) == 100:                                           \n",
    "                time.sleep(0.1)                                                 \n",
    "                while True:                                                     \n",
    "                    try:                                                        \n",
    "                        common_fr = api.friends.getMutual(source_uid=member_friend['id'],target_uids=member_id,v='5.103')\n",
    "                    except Exception as e:                                      \n",
    "                        if e.__dict__['error_data']['error_code'] == 6:         \n",
    "                            time.sleep(0.4)                                     \n",
    "                            print('sleep')                                      \n",
    "                            continue                                            \n",
    "                        else:                                                   \n",
    "                            print('UNKONW',str(e))                              \n",
    "                        break                                                   \n",
    "                    break                                                       \n",
    "                member_friend['common_fr'] += common_fr                         \n",
    "                member_id.clear()                                               \n",
    "        if len(member_id) > 0:                                                  \n",
    "            time.sleep(0.1)                                                     \n",
    "            while True:                                                         \n",
    "                try:                                                            \n",
    "                    common_fr = api.friends.getMutual(source_uid=member_friend['id'],target_uids=member_id,v='5.103')\n",
    "                except Exception as e:                                          \n",
    "                    if e.__dict__['error_data']['error_code'] == 6:             \n",
    "                        time.sleep(0.4)                                         \n",
    "                        print('sleep')                                          \n",
    "                        continue                                                \n",
    "                    else:                                                       \n",
    "                        print('UNKONW',str(e))                                  \n",
    "                    break                                                       \n",
    "                break                                                           \n",
    "            member_friend['common_fr'] += common_fr                             \n",
    "            member_id.clear()                                                   \n",
    "    member['all_friends_checked']=True                                          \n",
    "#save_obj(all_members,'all_members_with_friends_with_friends21')                 \n",
    "print('Saved exit')   \"\"\"                                                          \n"
   ]
  },
  {
   "cell_type": "code",
   "execution_count": 6,
   "metadata": {},
   "outputs": [
    {
     "data": {
      "text/plain": [
       "\"all_members = load_obj('./vk/all_members_with_friends_with_friends21')               \\ng = nx.Graph()                                                                  \\nfor member in all_members:                                                      \\n    g.add_nodes_from([(member['id'], {                                          \\n        'sex':member.get('sex',-1),                                             \\n        'first_name':member.get('first_name','unknown'),                        \\n        'last_name':member.get('last_name','unknown'),                          \\n        'country':member.get('country',{}).get('title', 'unknown'),             \\n        'city':member.get('city',{}).get('title', 'unknown'),                   \\n        'university_name':member.get('university_name','unknown')               \\n        })])                                                                    \\n    print(g.number_of_nodes())                                                  \\n    if isinstance(member['friends'], str) or member['can_access_closed'] == False:\\n        continue                                                                \\n    g.add_nodes_from((friend['id'], {                                           \\n        'sex':friend.get('sex',-1),                                             \\n        'first_name':friend.get('first_name','unknown'),                        \\n        'last_name':friend.get('last_name','unknown'),                          \\n        'city':friend.get('city',{}).get('title', 'unknown'),                   \\n        'university_name':friend.get('university_name','unknown')               \\n        }) for friend in member['friends']['items'])                            \\n    print(member['last_name'], member['friends']['count'],g.number_of_nodes())  \\n    g.add_edges_from((member['id'],friend['id']) for friend in member['friends']['items'])\\nfor member in all_members:                                                      \\n    if isinstance(member['friends'], str) or member['can_access_closed'] == False:\\n        continue                                                                \\n    for friend in member['friends']['items']:                                   \\n        for cm in friend['common_fr']:                                          \\n            g.add_edges_from((friend['id'],id_) for id_ in cm['common_friends'])\\n\\ng=nx.k_core(g,k=35)\\nprint(g.nodes())                                                         \\nnx.set_node_attributes(g,nx.betweenness_centrality(g),'betw_cent')             \\nnx.set_node_attributes(g,nx.closeness_centrality(g),'close_cent')              \\nnx.write_graphml(g, 'vk_graph_pres.graphml')                                   \\nprint(g.number_of_nodes())                                                      \\nprint(g.number_of_edges())\""
      ]
     },
     "execution_count": 6,
     "metadata": {},
     "output_type": "execute_result"
    }
   ],
   "source": [
    "### Здесь должен быть код преобразования в граф и сохранение в файл\n",
    "### Его тоже можно закомментировать\n",
    "import networkx as nx\n",
    "\n",
    "\"\"\"all_members = load_obj('./vk/all_members_with_friends_with_friends21')               \n",
    "g = nx.Graph()                                                                  \n",
    "for member in all_members:                                                      \n",
    "    g.add_nodes_from([(member['id'], {                                          \n",
    "        'sex':member.get('sex',-1),                                             \n",
    "        'first_name':member.get('first_name','unknown'),                        \n",
    "        'last_name':member.get('last_name','unknown'),                          \n",
    "        'country':member.get('country',{}).get('title', 'unknown'),             \n",
    "        'city':member.get('city',{}).get('title', 'unknown'),                   \n",
    "        'university_name':member.get('university_name','unknown')               \n",
    "        })])                                                                    \n",
    "    print(g.number_of_nodes())                                                  \n",
    "    if isinstance(member['friends'], str) or member['can_access_closed'] == False:\n",
    "        continue                                                                \n",
    "    g.add_nodes_from((friend['id'], {                                           \n",
    "        'sex':friend.get('sex',-1),                                             \n",
    "        'first_name':friend.get('first_name','unknown'),                        \n",
    "        'last_name':friend.get('last_name','unknown'),                          \n",
    "        'city':friend.get('city',{}).get('title', 'unknown'),                   \n",
    "        'university_name':friend.get('university_name','unknown')               \n",
    "        }) for friend in member['friends']['items'])                            \n",
    "    print(member['last_name'], member['friends']['count'],g.number_of_nodes())  \n",
    "    g.add_edges_from((member['id'],friend['id']) for friend in member['friends']['items'])\n",
    "for member in all_members:                                                      \n",
    "    if isinstance(member['friends'], str) or member['can_access_closed'] == False:\n",
    "        continue                                                                \n",
    "    for friend in member['friends']['items']:                                   \n",
    "        for cm in friend['common_fr']:                                          \n",
    "            g.add_edges_from((friend['id'],id_) for id_ in cm['common_friends'])\n",
    "\n",
    "g=nx.k_core(g,k=35)\n",
    "print(g.nodes())                                                         \n",
    "nx.set_node_attributes(g,nx.betweenness_centrality(g),'betw_cent')             \n",
    "nx.set_node_attributes(g,nx.closeness_centrality(g),'close_cent')              \n",
    "nx.write_graphml(g, 'vk_graph_pres.graphml')                                   \n",
    "print(g.number_of_nodes())                                                      \n",
    "print(g.number_of_edges())\"\"\"                                                                                                        \n"
   ]
  },
  {
   "cell_type": "code",
   "execution_count": 7,
   "metadata": {},
   "outputs": [],
   "source": [
    "### Здесь код, который загружает сохраненную сеть\n",
    "g = nx.read_graphml('vk_graph_with_comm_is_member.graphml')"
   ]
  },
  {
   "cell_type": "markdown",
   "metadata": {},
   "source": [
    "# Визуализация (1 балл)"
   ]
  },
  {
   "cell_type": "markdown",
   "metadata": {},
   "source": [
    "* Откройте полученный граф в gephi\n",
    "* Выберите наиболее удачный на ваш взгляд алгоритм прорисовки\n",
    "* Добавьте изменение размера вершины в зависимости от степени вершины\n",
    "* Вставьте скрин-шот ниже"
   ]
  },
  {
   "attachments": {},
   "cell_type": "markdown",
   "metadata": {},
   "source": [
    "### Ваши картинки и комментарии ниже\n",
    "Группа физфака №116 (degree ranking)\n",
    "\n",
    "nodes: 4709; \n",
    "edges: 92309; \n",
    "\n",
    "<img src='./images/all_group.png'/>\n"
   ]
  },
  {
   "cell_type": "markdown",
   "metadata": {},
   "source": [
    "# Центральности вершин (1.5 балла)"
   ]
  },
  {
   "cell_type": "markdown",
   "metadata": {},
   "source": [
    "Возможно, перед тем как пойти дальше, стоит немного почитстить граф - с помощью [kcore](https://www.google.com/search?client=firefox-b-d&q=networkx+kcore)\n",
    "\n",
    "* Найдите наиболее влиятельные вершины с точки зрения degree, closeness и betweenness centrality\n",
    "* Выделите их на картинке в gephi"
   ]
  },
  {
   "cell_type": "code",
   "execution_count": 9,
   "metadata": {},
   "outputs": [],
   "source": [
    "#код с использованием kcore в разделе создания графа^^^\n",
    "#g=nx.k_core(g,k=35)                                                       \n",
    "#nx.set_node_attributes(g,nx.betweenness_centrality(g),'betw_cent')             \n",
    "#nx.set_node_attributes(g,nx.closeness_centrality(g),'close_cent') "
   ]
  },
  {
   "cell_type": "markdown",
   "metadata": {},
   "source": [
    "### Ваш код, картинки и комментарии ниже\n",
    "Closeness centrality\n",
    "<img src='./images/close.png'/>\n",
    "Betweenness centrality\n",
    "<img src='./images/betw.png'/>"
   ]
  },
  {
   "cell_type": "markdown",
   "metadata": {},
   "source": [
    "На обоих графах выделяется наш груповод, что логично"
   ]
  },
  {
   "cell_type": "markdown",
   "metadata": {},
   "source": [
    "# Сообщества... в сообществе (1.5 балла)\n",
    "\n",
    "Выберите алгоритм выделения сообществ на графах и алгоритм на основе похожести вершин. Для обоих вариантов\n",
    "* Выделите сообщества, опираясь на максимальное значение модулярности для полученного разбиения\n",
    "* Изобразите граф с вершинами, раскрашенными в цвет своего сообщества в gephi\n",
    "* Попробуйте проинтерпретировать полученные сообщества, кто эти люди, почему они всязаны?\n",
    "* Какой метод на ваш взгляд сработал лучше?"
   ]
  },
  {
   "cell_type": "code",
   "execution_count": 11,
   "metadata": {},
   "outputs": [
    {
     "name": "stdout",
     "output_type": "stream",
     "text": [
      "[761, 99, 153]\n"
     ]
    }
   ],
   "source": [
    "### Ваш код, картинки и комментарии ниже\n",
    "#Label Propagation\n",
    "lp_partition = nx.community.asyn_lpa_communities(g,seed=123) # должен быть seed\n",
    "lp_partition = list(lp_partition) # разбиение на сообщества \n",
    "print([len(i) for i in lp_partition])"
   ]
  },
  {
   "cell_type": "code",
   "execution_count": 12,
   "metadata": {},
   "outputs": [],
   "source": [
    "some_attributes = {}\n",
    "for label, cluster in enumerate(lp_partition):\n",
    "    some_attributes.update({i:label for i in cluster})\n",
    "nx.set_node_attributes(g, some_attributes, 'comunities')#добавляем атрибут, номер сообщества\n",
    "nx.write_graphml(g, 'vk_graph_with_comm_pres.graphml')"
   ]
  },
  {
   "attachments": {},
   "cell_type": "markdown",
   "metadata": {},
   "source": [
    "Label Propogation\n",
    "<img src='./images/label_prop2.png'/>\n",
    "Зеленая группа - ребята олимпиадники, они связаны с обычными людьми тремя организторами олимпиад, один из которых -  член группы"
   ]
  },
  {
   "cell_type": "code",
   "execution_count": 14,
   "metadata": {},
   "outputs": [],
   "source": [
    "import pandas as pd\n",
    "import numpy as np\n",
    "import matplotlib.pyplot as plt\n",
    "# Все положительные похожести по Жаккару\n",
    "# По похожести\n",
    "g = nx.convert_node_labels_to_integers(g,0)\n",
    "jac = nx.jaccard_coefficient(g)\n",
    "jac = np.array(list(jac))\n",
    "print(g.number_of_nodes())"
   ]
  },
  {
   "cell_type": "code",
   "execution_count": 16,
   "metadata": {},
   "outputs": [],
   "source": [
    "# Немного магии, чтобы получить из этого матрицу попарных СХОЖЕСТЕЙ по жаккару\n",
    "from scipy.sparse import coo_matrix\n",
    "\n",
    "# Переводим все в формат разреженной матрицы\n",
    "D = coo_matrix((jac[:,2], (jac[:,0], jac[:,1])), shape=(1013,1013))\n",
    "\n",
    "# Делаем ее симметричной\n",
    "D = D+D.T"
   ]
  },
  {
   "cell_type": "code",
   "execution_count": 17,
   "metadata": {},
   "outputs": [],
   "source": [
    "# Попробуем посчитать на этой близости спектральную кластеризацию\n",
    "from sklearn.cluster import SpectralClustering"
   ]
  },
  {
   "cell_type": "code",
   "execution_count": 18,
   "metadata": {},
   "outputs": [
    {
     "data": {
      "text/plain": [
       "SpectralClustering(affinity='precomputed', assign_labels='kmeans', coef0=1,\n",
       "                   degree=3, eigen_solver=None, eigen_tol=0.0, gamma=1.0,\n",
       "                   kernel_params=None, n_clusters=4, n_init=10, n_jobs=None,\n",
       "                   n_neighbors=10, random_state=None)"
      ]
     },
     "execution_count": 18,
     "metadata": {},
     "output_type": "execute_result"
    }
   ],
   "source": [
    "model = SpectralClustering(n_clusters=4, affinity='precomputed')#что заранее сделали матрицу похожести\n",
    "model.fit(D)\n"
   ]
  },
  {
   "cell_type": "code",
   "execution_count": 31,
   "metadata": {},
   "outputs": [],
   "source": [
    "labels = list(model.labels_)"
   ]
  },
  {
   "cell_type": "code",
   "execution_count": 32,
   "metadata": {},
   "outputs": [],
   "source": [
    "\n",
    "nx.set_node_attributes(g,{node:label for label, node in zip(labels,g.nodes) }, 'commutity_jac') \n",
    "nx.write_graphml(g, 'vk_graph_with_comm_and jac_pres.graphml')"
   ]
  },
  {
   "cell_type": "markdown",
   "metadata": {},
   "source": [
    "По Жаккару\n",
    "<img src='./images/jac.png'/>\n",
    "В этом случае 2 организатора олимпиад распределены в другие группы, это странно"
   ]
  },
  {
   "cell_type": "markdown",
   "metadata": {},
   "source": [
    "# Асортативность по признакам (1.5 балла)\n",
    "\n",
    "* Посчитайте коэффициенты асортативности для признаков вершин (пол, возраст, университет, школа, город, количество друзей, etc)\n",
    "* Проинтерпретируйте полученные результаты"
   ]
  },
  {
   "cell_type": "code",
   "execution_count": 9,
   "metadata": {},
   "outputs": [],
   "source": [
    "### Ваш код, картинки и комментарии ниже"
   ]
  }
 ],
 "metadata": {
  "anaconda-cloud": {},
  "kernelspec": {
   "display_name": "Python 3",
   "language": "python",
   "name": "python3"
  },
  "language_info": {
   "codemirror_mode": {
    "name": "ipython",
    "version": 3
   },
   "file_extension": ".py",
   "mimetype": "text/x-python",
   "name": "python",
   "nbconvert_exporter": "python",
   "pygments_lexer": "ipython3",
   "version": "3.6.8"
  },
  "nav_menu": {},
  "toc": {
   "base_numbering": 1,
   "nav_menu": {
    "height": "347px",
    "width": "253px"
   },
   "number_sections": false,
   "sideBar": true,
   "skip_h1_title": false,
   "title_cell": "Table of Contents",
   "title_sidebar": "Contents",
   "toc_cell": false,
   "toc_position": {
    "height": "100px",
    "left": "46px",
    "right": "398.5px",
    "top": "111.133px",
    "width": "165px"
   },
   "toc_section_display": true,
   "toc_window_display": true
  },
  "toc_position": {
   "height": "40px",
   "left": "816px",
   "right": "38.6667px",
   "top": "0px",
   "width": "212px"
  }
 },
 "nbformat": 4,
 "nbformat_minor": 1
}
