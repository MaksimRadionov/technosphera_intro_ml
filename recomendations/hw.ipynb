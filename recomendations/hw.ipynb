{
 "cells": [
  {
   "cell_type": "markdown",
   "metadata": {},
   "source": [
    "В своем дз я использовал свою метрику: угол в двумерном пространстве между товаром и каким-то опорным вектором (на плоскости это эквивалетно обычный косинусной метрике между двумя товарами). Просто в этом случае нет необходимости считать метрику \"каждый с каждым\", а просто для каждого товара с опорным вектором и отсортировать. Это намного ускоряет вычисления, на моем компьютере не получалось посчитать \"каждый с каждым\". Минус заключается в том, что изза того что приходится сжимать пространство фичей до 2мерного теряется точность, у большого колличества товаров получаются одинаковые фичи, к сожалению я это поздно обнаружил. Но логически этот метод, на мой взгляд, правильный.\n",
    "Таким образом  я сжимаю пространство до 2мерного, считаю углы, сортирую, таким образом близкие товары оказываются рядом."
   ]
  },
  {
   "cell_type": "code",
   "execution_count": 49,
   "metadata": {
    "ExecuteTime": {
     "end_time": "2019-11-26T15:55:35.477231Z",
     "start_time": "2019-11-26T15:55:35.470467Z"
    }
   },
   "outputs": [],
   "source": [
    "import re\n",
    "import gensim\n",
    "import numpy as np\n",
    "import pandas as pd\n",
    "from scipy import spatial\n",
    "from lightfm import LightFM\n",
    "from sklearn.metrics import pairwise_distances\n",
    "from scipy.sparse import coo_matrix, csr_matrix, csc_matrix\n",
    "from sklearn.metrics.pairwise import cosine_similarity\n",
    "from math import atan2\n",
    "from scipy.sparse import load_npz\n",
    "import scipy.sparse\n",
    "from sklearn.decomposition import TruncatedSVD"
   ]
  },
  {
   "cell_type": "code",
   "execution_count": 50,
   "metadata": {
    "ExecuteTime": {
     "end_time": "2019-11-26T15:55:37.365952Z",
     "start_time": "2019-11-26T15:55:36.765952Z"
    }
   },
   "outputs": [],
   "source": [
    "Products_features = load_npz('item_features_matrix.npz')"
   ]
  },
  {
   "cell_type": "code",
   "execution_count": 51,
   "metadata": {
    "ExecuteTime": {
     "end_time": "2019-11-26T15:55:44.608800Z",
     "start_time": "2019-11-26T15:55:37.367877Z"
    }
   },
   "outputs": [],
   "source": [
    "I = pd.read_csv(\"Interactions.csv\", delimiter=',')"
   ]
  },
  {
   "cell_type": "code",
   "execution_count": 52,
   "metadata": {
    "ExecuteTime": {
     "end_time": "2019-11-26T15:55:44.615686Z",
     "start_time": "2019-11-26T15:55:44.611166Z"
    }
   },
   "outputs": [
    {
     "data": {
      "text/plain": [
       "(12913475, 3)"
      ]
     },
     "execution_count": 52,
     "metadata": {},
     "output_type": "execute_result"
    }
   ],
   "source": [
    "I.shape"
   ]
  },
  {
   "cell_type": "code",
   "execution_count": 53,
   "metadata": {
    "ExecuteTime": {
     "end_time": "2019-11-26T15:55:45.207274Z",
     "start_time": "2019-11-26T15:55:44.618932Z"
    }
   },
   "outputs": [
    {
     "name": "stdout",
     "output_type": "stream",
     "text": [
      "509399\n",
      "383771\n"
     ]
    }
   ],
   "source": [
    "print(I.product_id.max())\n",
    "print(I.product_id.nunique())"
   ]
  },
  {
   "cell_type": "code",
   "execution_count": 54,
   "metadata": {
    "ExecuteTime": {
     "end_time": "2019-11-26T15:55:45.369993Z",
     "start_time": "2019-11-26T15:55:45.209404Z"
    }
   },
   "outputs": [],
   "source": [
    "#Отделяем id товаров от фичей\n",
    "Products_features = Products_features.tocsc()\n",
    "ids = Products_features[:,0]\n",
    "Products_features = Products_features[:,1:]"
   ]
  },
  {
   "cell_type": "code",
   "execution_count": 55,
   "metadata": {
    "ExecuteTime": {
     "end_time": "2019-11-26T15:55:50.033156Z",
     "start_time": "2019-11-26T15:55:45.372009Z"
    }
   },
   "outputs": [],
   "source": [
    "\n",
    "svd = TruncatedSVD(n_components=2)\n",
    "svd.fit(Products_features)\n",
    "Products_features = svd.transform(Products_features)\n"
   ]
  },
  {
   "cell_type": "code",
   "execution_count": 56,
   "metadata": {
    "ExecuteTime": {
     "end_time": "2019-11-26T15:55:50.040199Z",
     "start_time": "2019-11-26T15:55:50.035021Z"
    }
   },
   "outputs": [
    {
     "data": {
      "text/plain": [
       "array([[ 0.06759639,  0.03306566],\n",
       "       [ 0.1043013 ,  0.05107146],\n",
       "       [ 0.04877673,  0.01877074],\n",
       "       ...,\n",
       "       [ 0.16296794,  0.43468094],\n",
       "       [ 0.03304127,  0.00942511],\n",
       "       [ 0.08100738, -0.00787768]])"
      ]
     },
     "execution_count": 56,
     "metadata": {},
     "output_type": "execute_result"
    }
   ],
   "source": [
    "Products_features"
   ]
  },
  {
   "cell_type": "code",
   "execution_count": 57,
   "metadata": {
    "ExecuteTime": {
     "end_time": "2019-11-26T15:55:50.575336Z",
     "start_time": "2019-11-26T15:55:50.048225Z"
    }
   },
   "outputs": [],
   "source": [
    "t_df = pd.DataFrame(data={'id': [i[0] for i in ids[:,0].toarray().astype(int)],'x':[i for i in Products_features[:,0]], 'y':[i for i in Products_features[:,1]]})\n"
   ]
  },
  {
   "cell_type": "code",
   "execution_count": 58,
   "metadata": {
    "ExecuteTime": {
     "end_time": "2019-11-26T15:55:50.587206Z",
     "start_time": "2019-11-26T15:55:50.577364Z"
    }
   },
   "outputs": [
    {
     "data": {
      "text/html": [
       "<div>\n",
       "<style scoped>\n",
       "    .dataframe tbody tr th:only-of-type {\n",
       "        vertical-align: middle;\n",
       "    }\n",
       "\n",
       "    .dataframe tbody tr th {\n",
       "        vertical-align: top;\n",
       "    }\n",
       "\n",
       "    .dataframe thead th {\n",
       "        text-align: right;\n",
       "    }\n",
       "</style>\n",
       "<table border=\"1\" class=\"dataframe\">\n",
       "  <thead>\n",
       "    <tr style=\"text-align: right;\">\n",
       "      <th></th>\n",
       "      <th>id</th>\n",
       "      <th>x</th>\n",
       "      <th>y</th>\n",
       "    </tr>\n",
       "  </thead>\n",
       "  <tbody>\n",
       "    <tr>\n",
       "      <th>0</th>\n",
       "      <td>335486</td>\n",
       "      <td>0.067596</td>\n",
       "      <td>0.033066</td>\n",
       "    </tr>\n",
       "    <tr>\n",
       "      <th>1</th>\n",
       "      <td>322530</td>\n",
       "      <td>0.104301</td>\n",
       "      <td>0.051071</td>\n",
       "    </tr>\n",
       "    <tr>\n",
       "      <th>2</th>\n",
       "      <td>57032</td>\n",
       "      <td>0.048777</td>\n",
       "      <td>0.018771</td>\n",
       "    </tr>\n",
       "    <tr>\n",
       "      <th>3</th>\n",
       "      <td>56996</td>\n",
       "      <td>0.061605</td>\n",
       "      <td>0.028936</td>\n",
       "    </tr>\n",
       "    <tr>\n",
       "      <th>4</th>\n",
       "      <td>37084</td>\n",
       "      <td>0.116844</td>\n",
       "      <td>0.247613</td>\n",
       "    </tr>\n",
       "  </tbody>\n",
       "</table>\n",
       "</div>"
      ],
      "text/plain": [
       "       id         x         y\n",
       "0  335486  0.067596  0.033066\n",
       "1  322530  0.104301  0.051071\n",
       "2   57032  0.048777  0.018771\n",
       "3   56996  0.061605  0.028936\n",
       "4   37084  0.116844  0.247613"
      ]
     },
     "execution_count": 58,
     "metadata": {},
     "output_type": "execute_result"
    }
   ],
   "source": [
    "t_df.head()"
   ]
  },
  {
   "cell_type": "code",
   "execution_count": null,
   "metadata": {},
   "outputs": [],
   "source": []
  },
  {
   "cell_type": "markdown",
   "metadata": {},
   "source": [
    "# Content-based\n"
   ]
  },
  {
   "cell_type": "code",
   "execution_count": 59,
   "metadata": {
    "ExecuteTime": {
     "end_time": "2019-11-26T15:55:50.660383Z",
     "start_time": "2019-11-26T15:55:50.590438Z"
    }
   },
   "outputs": [],
   "source": [
    "#отсортируем все по отношению к вектору (1,0) используя в качестве меры угол. Эта метрика в случае двумерного пространства идентична косинусной мере между двумя товарами. Нужно только отдельно рассмотреть пятерку товаров по краям списка ( изза свойства угла fi = fi + 2pi). Но в данном случае они (товары) очень близки к друг другу по краям списка. Такая мера в разы ускоряет вычисления\n",
    "def calc_angle(point):\n",
    "    return atan2(point[1],point[0])\n"
   ]
  },
  {
   "cell_type": "code",
   "execution_count": 60,
   "metadata": {
    "ExecuteTime": {
     "end_time": "2019-11-26T15:55:50.737111Z",
     "start_time": "2019-11-26T15:55:50.663236Z"
    }
   },
   "outputs": [],
   "source": [
    "#t_df['cos']= cosine_similarity(np.array([1,0]).reshape(1,2), t_df[['x','y']].values[:,:])[0]"
   ]
  },
  {
   "cell_type": "code",
   "execution_count": 61,
   "metadata": {
    "ExecuteTime": {
     "end_time": "2019-11-26T15:55:51.327989Z",
     "start_time": "2019-11-26T15:55:50.742687Z"
    }
   },
   "outputs": [],
   "source": [
    "t_df['angle'] = [calc_angle(point) for point in t_df[['x','y']].values[:,:]]"
   ]
  },
  {
   "cell_type": "code",
   "execution_count": 62,
   "metadata": {
    "ExecuteTime": {
     "end_time": "2019-11-26T15:55:51.341116Z",
     "start_time": "2019-11-26T15:55:51.330596Z"
    }
   },
   "outputs": [
    {
     "data": {
      "text/html": [
       "<div>\n",
       "<style scoped>\n",
       "    .dataframe tbody tr th:only-of-type {\n",
       "        vertical-align: middle;\n",
       "    }\n",
       "\n",
       "    .dataframe tbody tr th {\n",
       "        vertical-align: top;\n",
       "    }\n",
       "\n",
       "    .dataframe thead th {\n",
       "        text-align: right;\n",
       "    }\n",
       "</style>\n",
       "<table border=\"1\" class=\"dataframe\">\n",
       "  <thead>\n",
       "    <tr style=\"text-align: right;\">\n",
       "      <th></th>\n",
       "      <th>id</th>\n",
       "      <th>x</th>\n",
       "      <th>y</th>\n",
       "      <th>angle</th>\n",
       "    </tr>\n",
       "  </thead>\n",
       "  <tbody>\n",
       "    <tr>\n",
       "      <th>0</th>\n",
       "      <td>335486</td>\n",
       "      <td>0.067596</td>\n",
       "      <td>0.033066</td>\n",
       "      <td>0.454941</td>\n",
       "    </tr>\n",
       "    <tr>\n",
       "      <th>1</th>\n",
       "      <td>322530</td>\n",
       "      <td>0.104301</td>\n",
       "      <td>0.051071</td>\n",
       "      <td>0.455336</td>\n",
       "    </tr>\n",
       "    <tr>\n",
       "      <th>2</th>\n",
       "      <td>57032</td>\n",
       "      <td>0.048777</td>\n",
       "      <td>0.018771</td>\n",
       "      <td>0.367361</td>\n",
       "    </tr>\n",
       "    <tr>\n",
       "      <th>3</th>\n",
       "      <td>56996</td>\n",
       "      <td>0.061605</td>\n",
       "      <td>0.028936</td>\n",
       "      <td>0.439113</td>\n",
       "    </tr>\n",
       "    <tr>\n",
       "      <th>4</th>\n",
       "      <td>37084</td>\n",
       "      <td>0.116844</td>\n",
       "      <td>0.247613</td>\n",
       "      <td>1.129897</td>\n",
       "    </tr>\n",
       "  </tbody>\n",
       "</table>\n",
       "</div>"
      ],
      "text/plain": [
       "       id         x         y     angle\n",
       "0  335486  0.067596  0.033066  0.454941\n",
       "1  322530  0.104301  0.051071  0.455336\n",
       "2   57032  0.048777  0.018771  0.367361\n",
       "3   56996  0.061605  0.028936  0.439113\n",
       "4   37084  0.116844  0.247613  1.129897"
      ]
     },
     "execution_count": 62,
     "metadata": {},
     "output_type": "execute_result"
    }
   ],
   "source": [
    "t_df.head()"
   ]
  },
  {
   "cell_type": "code",
   "execution_count": 63,
   "metadata": {
    "ExecuteTime": {
     "end_time": "2019-11-26T15:55:51.592495Z",
     "start_time": "2019-11-26T15:55:51.343166Z"
    }
   },
   "outputs": [
    {
     "data": {
      "text/html": [
       "<div>\n",
       "<style scoped>\n",
       "    .dataframe tbody tr th:only-of-type {\n",
       "        vertical-align: middle;\n",
       "    }\n",
       "\n",
       "    .dataframe tbody tr th {\n",
       "        vertical-align: top;\n",
       "    }\n",
       "\n",
       "    .dataframe thead th {\n",
       "        text-align: right;\n",
       "    }\n",
       "</style>\n",
       "<table border=\"1\" class=\"dataframe\">\n",
       "  <thead>\n",
       "    <tr style=\"text-align: right;\">\n",
       "      <th></th>\n",
       "      <th>id</th>\n",
       "      <th>x</th>\n",
       "      <th>y</th>\n",
       "      <th>angle</th>\n",
       "    </tr>\n",
       "  </thead>\n",
       "  <tbody>\n",
       "    <tr>\n",
       "      <th>0</th>\n",
       "      <td>350461</td>\n",
       "      <td>0.372745</td>\n",
       "      <td>-0.277535</td>\n",
       "      <td>-0.640017</td>\n",
       "    </tr>\n",
       "    <tr>\n",
       "      <th>1</th>\n",
       "      <td>269201</td>\n",
       "      <td>0.372745</td>\n",
       "      <td>-0.277535</td>\n",
       "      <td>-0.640017</td>\n",
       "    </tr>\n",
       "    <tr>\n",
       "      <th>2</th>\n",
       "      <td>433748</td>\n",
       "      <td>0.372745</td>\n",
       "      <td>-0.277535</td>\n",
       "      <td>-0.640017</td>\n",
       "    </tr>\n",
       "    <tr>\n",
       "      <th>3</th>\n",
       "      <td>169194</td>\n",
       "      <td>0.372745</td>\n",
       "      <td>-0.277535</td>\n",
       "      <td>-0.640017</td>\n",
       "    </tr>\n",
       "    <tr>\n",
       "      <th>4</th>\n",
       "      <td>96027</td>\n",
       "      <td>0.372745</td>\n",
       "      <td>-0.277535</td>\n",
       "      <td>-0.640017</td>\n",
       "    </tr>\n",
       "  </tbody>\n",
       "</table>\n",
       "</div>"
      ],
      "text/plain": [
       "       id         x         y     angle\n",
       "0  350461  0.372745 -0.277535 -0.640017\n",
       "1  269201  0.372745 -0.277535 -0.640017\n",
       "2  433748  0.372745 -0.277535 -0.640017\n",
       "3  169194  0.372745 -0.277535 -0.640017\n",
       "4   96027  0.372745 -0.277535 -0.640017"
      ]
     },
     "execution_count": 63,
     "metadata": {},
     "output_type": "execute_result"
    }
   ],
   "source": [
    "t_df = t_df.sort_values(by='angle')\n",
    "t_df = t_df.reset_index(drop=True)\n",
    "t_df.head()"
   ]
  },
  {
   "cell_type": "code",
   "execution_count": 47,
   "metadata": {
    "ExecuteTime": {
     "end_time": "2019-11-26T15:50:54.185836Z",
     "start_time": "2019-11-26T15:37:16.312568Z"
    }
   },
   "outputs": [],
   "source": [
    "#save csv\n",
    "with open('RadionovMaksim1.csv','w') as out:\n",
    "    for idx in range(t_df.shape[0]-5):\n",
    "        row =        t_df.iloc[idx] \n",
    "        cur_angle = row.angle\n",
    "        for i in range(1,6):\n",
    "            out.write(str(int(row.id))+' '+str(int(t_df.iloc[idx + i].id))+' '+str(t_df.iloc[idx + i].angle - cur_angle)+'\\n' )\n",
    "    for idx in range(t_df.shape[0]-1, t_df.shape[0]-1-5,-1):\n",
    "        row =        t_df.iloc[idx] \n",
    "        cur_angle = row.angle\n",
    "        for i in range(1,6):\n",
    "            out.write(str(int(row.id))+' '+str(int(t_df.iloc[idx - i].id))+' '+str(t_df.iloc[idx - i].angle - cur_angle)+'\\n' )"
   ]
  },
  {
   "cell_type": "markdown",
   "metadata": {},
   "source": [
    "# Коллаборативная фильтрация"
   ]
  },
  {
   "cell_type": "code",
   "execution_count": 64,
   "metadata": {
    "ExecuteTime": {
     "end_time": "2019-11-26T15:55:51.621581Z",
     "start_time": "2019-11-26T15:55:51.595274Z"
    }
   },
   "outputs": [
    {
     "data": {
      "text/html": [
       "<div>\n",
       "<style scoped>\n",
       "    .dataframe tbody tr th:only-of-type {\n",
       "        vertical-align: middle;\n",
       "    }\n",
       "\n",
       "    .dataframe tbody tr th {\n",
       "        vertical-align: top;\n",
       "    }\n",
       "\n",
       "    .dataframe thead th {\n",
       "        text-align: right;\n",
       "    }\n",
       "</style>\n",
       "<table border=\"1\" class=\"dataframe\">\n",
       "  <thead>\n",
       "    <tr style=\"text-align: right;\">\n",
       "      <th></th>\n",
       "      <th>vid</th>\n",
       "      <th>product_id</th>\n",
       "      <th>page_type</th>\n",
       "    </tr>\n",
       "  </thead>\n",
       "  <tbody>\n",
       "    <tr>\n",
       "      <th>0</th>\n",
       "      <td>0</td>\n",
       "      <td>0</td>\n",
       "      <td>PRODUCT</td>\n",
       "    </tr>\n",
       "    <tr>\n",
       "      <th>1</th>\n",
       "      <td>1</td>\n",
       "      <td>1</td>\n",
       "      <td>PRODUCT</td>\n",
       "    </tr>\n",
       "    <tr>\n",
       "      <th>2</th>\n",
       "      <td>3</td>\n",
       "      <td>3</td>\n",
       "      <td>CART</td>\n",
       "    </tr>\n",
       "    <tr>\n",
       "      <th>3</th>\n",
       "      <td>4</td>\n",
       "      <td>4</td>\n",
       "      <td>PURCHASE</td>\n",
       "    </tr>\n",
       "    <tr>\n",
       "      <th>4</th>\n",
       "      <td>5</td>\n",
       "      <td>5</td>\n",
       "      <td>PRODUCT</td>\n",
       "    </tr>\n",
       "  </tbody>\n",
       "</table>\n",
       "</div>"
      ],
      "text/plain": [
       "   vid  product_id page_type\n",
       "0    0           0   PRODUCT\n",
       "1    1           1   PRODUCT\n",
       "2    3           3      CART\n",
       "3    4           4  PURCHASE\n",
       "4    5           5   PRODUCT"
      ]
     },
     "execution_count": 64,
     "metadata": {},
     "output_type": "execute_result"
    }
   ],
   "source": [
    "I.head()"
   ]
  },
  {
   "cell_type": "code",
   "execution_count": 65,
   "metadata": {
    "ExecuteTime": {
     "end_time": "2019-11-26T15:55:53.187091Z",
     "start_time": "2019-11-26T15:55:51.626085Z"
    }
   },
   "outputs": [],
   "source": [
    "I = I[pd.to_numeric(I['vid'], errors='coerce').notnull()]\n",
    "I = I[pd.to_numeric(I['product_id'], errors='coerce').notnull()]"
   ]
  },
  {
   "cell_type": "code",
   "execution_count": 66,
   "metadata": {
    "ExecuteTime": {
     "end_time": "2019-11-26T15:55:55.229033Z",
     "start_time": "2019-11-26T15:55:54.837260Z"
    }
   },
   "outputs": [
    {
     "name": "stdout",
     "output_type": "stream",
     "text": [
      "383771 509399\n"
     ]
    }
   ],
   "source": [
    "print(I.product_id.nunique(), I.product_id.max())"
   ]
  },
  {
   "cell_type": "code",
   "execution_count": 67,
   "metadata": {
    "ExecuteTime": {
     "end_time": "2019-11-26T15:55:57.220652Z",
     "start_time": "2019-11-26T15:55:57.217837Z"
    }
   },
   "outputs": [],
   "source": [
    "rates = {'PRODUCT':1, 'CART':2, 'PURCHASE':3}"
   ]
  },
  {
   "cell_type": "code",
   "execution_count": 68,
   "metadata": {
    "ExecuteTime": {
     "end_time": "2019-11-26T15:56:01.518681Z",
     "start_time": "2019-11-26T15:55:59.599700Z"
    }
   },
   "outputs": [],
   "source": [
    "#создаем матрицу взаимодейстий (товар х пользователи)\n",
    "coo = coo_matrix((np.array([rates[i] for i in I.page_type.values]),(I.product_id.values, I.vid.values)))\n",
    "#I2 = coo_matrix((I.product_id.max(), I.vid.max()), dtype=np.int8)"
   ]
  },
  {
   "cell_type": "code",
   "execution_count": 70,
   "metadata": {
    "ExecuteTime": {
     "end_time": "2019-11-26T15:56:17.548980Z",
     "start_time": "2019-11-26T15:56:01.918809Z"
    }
   },
   "outputs": [],
   "source": [
    "#понижаем ее размерность\n",
    "svd = TruncatedSVD(n_components=2)\n",
    "coo2 =svd.fit_transform(coo)\n"
   ]
  },
  {
   "cell_type": "code",
   "execution_count": 72,
   "metadata": {
    "ExecuteTime": {
     "end_time": "2019-11-26T15:56:17.947483Z",
     "start_time": "2019-11-26T15:56:17.565807Z"
    }
   },
   "outputs": [],
   "source": [
    "p_df = pd.DataFrame(data={'product_id':range(len(coo2[:,0])),'x':[i for i in coo2[:,0]], 'y':[i for i in coo2[:,1]]})"
   ]
  },
  {
   "cell_type": "code",
   "execution_count": 73,
   "metadata": {
    "ExecuteTime": {
     "end_time": "2019-11-26T15:56:18.487371Z",
     "start_time": "2019-11-26T15:56:17.949202Z"
    }
   },
   "outputs": [],
   "source": [
    "p_df.head()\n",
    "p_df =p_df[p_df.product_id.isin(I.product_id)]"
   ]
  },
  {
   "cell_type": "code",
   "execution_count": 74,
   "metadata": {
    "ExecuteTime": {
     "end_time": "2019-11-26T15:56:18.510031Z",
     "start_time": "2019-11-26T15:56:18.489123Z"
    }
   },
   "outputs": [
    {
     "data": {
      "text/html": [
       "<div>\n",
       "<style scoped>\n",
       "    .dataframe tbody tr th:only-of-type {\n",
       "        vertical-align: middle;\n",
       "    }\n",
       "\n",
       "    .dataframe tbody tr th {\n",
       "        vertical-align: top;\n",
       "    }\n",
       "\n",
       "    .dataframe thead th {\n",
       "        text-align: right;\n",
       "    }\n",
       "</style>\n",
       "<table border=\"1\" class=\"dataframe\">\n",
       "  <thead>\n",
       "    <tr style=\"text-align: right;\">\n",
       "      <th></th>\n",
       "      <th>product_id</th>\n",
       "      <th>x</th>\n",
       "      <th>y</th>\n",
       "    </tr>\n",
       "  </thead>\n",
       "  <tbody>\n",
       "    <tr>\n",
       "      <th>0</th>\n",
       "      <td>0</td>\n",
       "      <td>0.000337</td>\n",
       "      <td>4.569432e-05</td>\n",
       "    </tr>\n",
       "    <tr>\n",
       "      <th>1</th>\n",
       "      <td>1</td>\n",
       "      <td>0.000055</td>\n",
       "      <td>1.957575e-04</td>\n",
       "    </tr>\n",
       "    <tr>\n",
       "      <th>3</th>\n",
       "      <td>3</td>\n",
       "      <td>0.000002</td>\n",
       "      <td>8.788239e-05</td>\n",
       "    </tr>\n",
       "    <tr>\n",
       "      <th>4</th>\n",
       "      <td>4</td>\n",
       "      <td>0.000034</td>\n",
       "      <td>4.578236e-07</td>\n",
       "    </tr>\n",
       "    <tr>\n",
       "      <th>5</th>\n",
       "      <td>5</td>\n",
       "      <td>0.002143</td>\n",
       "      <td>7.597922e-04</td>\n",
       "    </tr>\n",
       "  </tbody>\n",
       "</table>\n",
       "</div>"
      ],
      "text/plain": [
       "   product_id         x             y\n",
       "0           0  0.000337  4.569432e-05\n",
       "1           1  0.000055  1.957575e-04\n",
       "3           3  0.000002  8.788239e-05\n",
       "4           4  0.000034  4.578236e-07\n",
       "5           5  0.002143  7.597922e-04"
      ]
     },
     "execution_count": 74,
     "metadata": {},
     "output_type": "execute_result"
    }
   ],
   "source": [
    "#дата фрейм - товаром и их двумерных фичей\n",
    "p_df.head()"
   ]
  },
  {
   "cell_type": "code",
   "execution_count": 75,
   "metadata": {
    "ExecuteTime": {
     "end_time": "2019-11-26T15:56:20.366872Z",
     "start_time": "2019-11-26T15:56:18.512194Z"
    }
   },
   "outputs": [],
   "source": [
    "p_df['angle'] = [calc_angle(point) for point in p_df[['x','y']].values[:,:]]"
   ]
  },
  {
   "cell_type": "code",
   "execution_count": 79,
   "metadata": {
    "ExecuteTime": {
     "end_time": "2019-11-26T16:46:24.864490Z",
     "start_time": "2019-11-26T16:46:24.832098Z"
    }
   },
   "outputs": [
    {
     "data": {
      "text/html": [
       "<div>\n",
       "<style scoped>\n",
       "    .dataframe tbody tr th:only-of-type {\n",
       "        vertical-align: middle;\n",
       "    }\n",
       "\n",
       "    .dataframe tbody tr th {\n",
       "        vertical-align: top;\n",
       "    }\n",
       "\n",
       "    .dataframe thead th {\n",
       "        text-align: right;\n",
       "    }\n",
       "</style>\n",
       "<table border=\"1\" class=\"dataframe\">\n",
       "  <thead>\n",
       "    <tr style=\"text-align: right;\">\n",
       "      <th></th>\n",
       "      <th>id</th>\n",
       "      <th>x</th>\n",
       "      <th>y</th>\n",
       "      <th>angle</th>\n",
       "    </tr>\n",
       "  </thead>\n",
       "  <tbody>\n",
       "    <tr>\n",
       "      <th>0</th>\n",
       "      <td>350461</td>\n",
       "      <td>0.372745</td>\n",
       "      <td>-0.277535</td>\n",
       "      <td>-0.640017</td>\n",
       "    </tr>\n",
       "    <tr>\n",
       "      <th>1</th>\n",
       "      <td>269201</td>\n",
       "      <td>0.372745</td>\n",
       "      <td>-0.277535</td>\n",
       "      <td>-0.640017</td>\n",
       "    </tr>\n",
       "    <tr>\n",
       "      <th>2</th>\n",
       "      <td>433748</td>\n",
       "      <td>0.372745</td>\n",
       "      <td>-0.277535</td>\n",
       "      <td>-0.640017</td>\n",
       "    </tr>\n",
       "    <tr>\n",
       "      <th>3</th>\n",
       "      <td>169194</td>\n",
       "      <td>0.372745</td>\n",
       "      <td>-0.277535</td>\n",
       "      <td>-0.640017</td>\n",
       "    </tr>\n",
       "    <tr>\n",
       "      <th>4</th>\n",
       "      <td>96027</td>\n",
       "      <td>0.372745</td>\n",
       "      <td>-0.277535</td>\n",
       "      <td>-0.640017</td>\n",
       "    </tr>\n",
       "  </tbody>\n",
       "</table>\n",
       "</div>"
      ],
      "text/plain": [
       "       id         x         y     angle\n",
       "0  350461  0.372745 -0.277535 -0.640017\n",
       "1  269201  0.372745 -0.277535 -0.640017\n",
       "2  433748  0.372745 -0.277535 -0.640017\n",
       "3  169194  0.372745 -0.277535 -0.640017\n",
       "4   96027  0.372745 -0.277535 -0.640017"
      ]
     },
     "execution_count": 79,
     "metadata": {},
     "output_type": "execute_result"
    }
   ],
   "source": [
    "p_df=t_df.sort_values(by='angle')\n",
    "p_df.head()"
   ]
  },
  {
   "cell_type": "code",
   "execution_count": 80,
   "metadata": {
    "ExecuteTime": {
     "end_time": "2019-11-26T16:58:23.859423Z",
     "start_time": "2019-11-26T16:47:17.180225Z"
    }
   },
   "outputs": [],
   "source": [
    "#save csv\n",
    "with open('RadionovMaksim2.csv','w') as out:\n",
    "    for idx in range(p_df.shape[0]-5):\n",
    "        row =        p_df.iloc[idx] \n",
    "        cur_angle = row.angle\n",
    "        for i in range(1,6):\n",
    "            out.write(str(int(row.id))+' '+str(int(p_df.iloc[idx + i].id))+' '+str(p_df.iloc[idx + i].angle - cur_angle)+'\\n' )\n",
    "    for idx in range(p_df.shape[0]-1, p_df.shape[0]-1-5,-1):\n",
    "        row =        p_df.iloc[idx] \n",
    "        cur_angle = row.angle\n",
    "        for i in range(1,6):\n",
    "            out.write(str(int(row.id))+' '+str(int(p_df.iloc[idx - i].id))+' '+str(p_df.iloc[idx - i].angle - cur_angle)+'\\n' )"
   ]
  },
  {
   "cell_type": "markdown",
   "metadata": {
    "ExecuteTime": {
     "end_time": "2019-11-12T16:04:55.310135Z",
     "start_time": "2019-11-12T16:04:55.245363Z"
    }
   },
   "source": [
    "# Матричная факторизация"
   ]
  },
  {
   "cell_type": "code",
   "execution_count": 81,
   "metadata": {
    "ExecuteTime": {
     "end_time": "2019-11-26T17:00:21.916698Z",
     "start_time": "2019-11-26T17:00:21.912573Z"
    }
   },
   "outputs": [
    {
     "data": {
      "text/plain": [
       "(509400, 975006)"
      ]
     },
     "execution_count": 81,
     "metadata": {},
     "output_type": "execute_result"
    }
   ],
   "source": [
    "coo.shape"
   ]
  },
  {
   "cell_type": "code",
   "execution_count": 82,
   "metadata": {
    "ExecuteTime": {
     "end_time": "2019-11-26T17:00:28.241408Z",
     "start_time": "2019-11-26T17:00:28.237463Z"
    }
   },
   "outputs": [],
   "source": [
    "model = LightFM(loss='warp', no_components=100, learning_rate=0.03, learning_schedule=\"adadelta\")"
   ]
  },
  {
   "cell_type": "code",
   "execution_count": 83,
   "metadata": {
    "ExecuteTime": {
     "end_time": "2019-11-26T17:03:24.711985Z",
     "start_time": "2019-11-26T17:00:29.682380Z"
    }
   },
   "outputs": [
    {
     "name": "stdout",
     "output_type": "stream",
     "text": [
      "Epoch 0\n",
      "Epoch 1\n",
      "Epoch 2\n",
      "Epoch 3\n",
      "Epoch 4\n"
     ]
    },
    {
     "data": {
      "text/plain": [
       "<lightfm.lightfm.LightFM at 0x7f591c41a278>"
      ]
     },
     "execution_count": 83,
     "metadata": {},
     "output_type": "execute_result"
    }
   ],
   "source": [
    "model.fit(coo, epochs=5, num_threads=40, verbose=True)"
   ]
  },
  {
   "cell_type": "code",
   "execution_count": 84,
   "metadata": {
    "ExecuteTime": {
     "end_time": "2019-11-26T17:03:25.044548Z",
     "start_time": "2019-11-26T17:03:24.916486Z"
    }
   },
   "outputs": [],
   "source": [
    "user_feature_bias, user_feature_embeddings = model.get_user_representations()\n",
    "item_feature_bias, item_feature_embeddings = model.get_item_representations()"
   ]
  },
  {
   "cell_type": "code",
   "execution_count": 86,
   "metadata": {
    "ExecuteTime": {
     "end_time": "2019-11-26T17:05:57.748328Z",
     "start_time": "2019-11-26T17:05:54.689576Z"
    }
   },
   "outputs": [],
   "source": [
    "#use user_feature_emb (такая входная матрица)\n",
    "#сжимаем \n",
    "svd = TruncatedSVD(n_components=2)\n",
    "coo3 =svd.fit_transform(user_feature_embeddings)\n"
   ]
  },
  {
   "cell_type": "code",
   "execution_count": 91,
   "metadata": {
    "ExecuteTime": {
     "end_time": "2019-11-26T17:08:02.483758Z",
     "start_time": "2019-11-26T17:08:01.818304Z"
    }
   },
   "outputs": [
    {
     "name": "stdout",
     "output_type": "stream",
     "text": [
      "(509400, 3)\n",
      "(383771, 3)\n"
     ]
    }
   ],
   "source": [
    "m_df = pd.DataFrame(data={'product_id':range(len(coo3[:,0])),'x':[i for i in coo3[:,0]], 'y':[i for i in coo3[:,1]]})\n",
    "m_df =m_df[m_df.product_id.isin(I.product_id)]\n"
   ]
  },
  {
   "cell_type": "code",
   "execution_count": 93,
   "metadata": {
    "ExecuteTime": {
     "end_time": "2019-11-26T17:09:07.273888Z",
     "start_time": "2019-11-26T17:09:06.401951Z"
    }
   },
   "outputs": [],
   "source": [
    "m_df['angle'] = [calc_angle(point) for point in m_df[['x','y']].values[:,:]]"
   ]
  },
  {
   "cell_type": "code",
   "execution_count": 95,
   "metadata": {
    "ExecuteTime": {
     "end_time": "2019-11-26T17:09:21.178269Z",
     "start_time": "2019-11-26T17:09:21.141767Z"
    }
   },
   "outputs": [
    {
     "data": {
      "text/html": [
       "<div>\n",
       "<style scoped>\n",
       "    .dataframe tbody tr th:only-of-type {\n",
       "        vertical-align: middle;\n",
       "    }\n",
       "\n",
       "    .dataframe tbody tr th {\n",
       "        vertical-align: top;\n",
       "    }\n",
       "\n",
       "    .dataframe thead th {\n",
       "        text-align: right;\n",
       "    }\n",
       "</style>\n",
       "<table border=\"1\" class=\"dataframe\">\n",
       "  <thead>\n",
       "    <tr style=\"text-align: right;\">\n",
       "      <th></th>\n",
       "      <th>id</th>\n",
       "      <th>x</th>\n",
       "      <th>y</th>\n",
       "      <th>angle</th>\n",
       "    </tr>\n",
       "  </thead>\n",
       "  <tbody>\n",
       "    <tr>\n",
       "      <th>0</th>\n",
       "      <td>350461</td>\n",
       "      <td>0.372745</td>\n",
       "      <td>-0.277535</td>\n",
       "      <td>-0.640017</td>\n",
       "    </tr>\n",
       "    <tr>\n",
       "      <th>1</th>\n",
       "      <td>269201</td>\n",
       "      <td>0.372745</td>\n",
       "      <td>-0.277535</td>\n",
       "      <td>-0.640017</td>\n",
       "    </tr>\n",
       "    <tr>\n",
       "      <th>2</th>\n",
       "      <td>433748</td>\n",
       "      <td>0.372745</td>\n",
       "      <td>-0.277535</td>\n",
       "      <td>-0.640017</td>\n",
       "    </tr>\n",
       "    <tr>\n",
       "      <th>3</th>\n",
       "      <td>169194</td>\n",
       "      <td>0.372745</td>\n",
       "      <td>-0.277535</td>\n",
       "      <td>-0.640017</td>\n",
       "    </tr>\n",
       "    <tr>\n",
       "      <th>4</th>\n",
       "      <td>96027</td>\n",
       "      <td>0.372745</td>\n",
       "      <td>-0.277535</td>\n",
       "      <td>-0.640017</td>\n",
       "    </tr>\n",
       "  </tbody>\n",
       "</table>\n",
       "</div>"
      ],
      "text/plain": [
       "       id         x         y     angle\n",
       "0  350461  0.372745 -0.277535 -0.640017\n",
       "1  269201  0.372745 -0.277535 -0.640017\n",
       "2  433748  0.372745 -0.277535 -0.640017\n",
       "3  169194  0.372745 -0.277535 -0.640017\n",
       "4   96027  0.372745 -0.277535 -0.640017"
      ]
     },
     "execution_count": 95,
     "metadata": {},
     "output_type": "execute_result"
    }
   ],
   "source": [
    "m_df=t_df.sort_values(by='angle')\n",
    "m_df.head()"
   ]
  },
  {
   "cell_type": "code",
   "execution_count": 96,
   "metadata": {
    "ExecuteTime": {
     "end_time": "2019-11-26T17:22:14.404218Z",
     "start_time": "2019-11-26T17:11:16.936029Z"
    }
   },
   "outputs": [],
   "source": [
    "with open('RadionovMaksim3.csv','w') as out:\n",
    "    for idx in range(m_df.shape[0]-5):\n",
    "        row =        m_df.iloc[idx] \n",
    "        cur_angle = row.angle\n",
    "        for i in range(1,6):\n",
    "            out.write(str(int(row.id))+' '+str(int(m_df.iloc[idx + i].id))+' '+str(m_df.iloc[idx + i].angle - cur_angle)+'\\n' )\n",
    "    for idx in range(m_df.shape[0]-1, m_df.shape[0]-1-5,-1):\n",
    "        row =        m_df.iloc[idx] \n",
    "        cur_angle = row.angle\n",
    "        for i in range(1,6):\n",
    "            out.write(str(int(row.id))+' '+str(int(m_df.iloc[idx - i].id))+' '+str(m_df.iloc[idx - i].angle - cur_angle)+'\\n' )"
   ]
  }
 ],
 "metadata": {
  "kernelspec": {
   "display_name": "Python 3",
   "language": "python",
   "name": "python3"
  },
  "language_info": {
   "codemirror_mode": {
    "name": "ipython",
    "version": 3
   },
   "file_extension": ".py",
   "mimetype": "text/x-python",
   "name": "python",
   "nbconvert_exporter": "python",
   "pygments_lexer": "ipython3",
   "version": "3.6.8"
  }
 },
 "nbformat": 4,
 "nbformat_minor": 2
}
